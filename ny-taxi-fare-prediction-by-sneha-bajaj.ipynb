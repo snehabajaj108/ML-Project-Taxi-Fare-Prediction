{
 "cells": [
  {
   "cell_type": "markdown",
   "metadata": {
    "id": "rF7wQ1LGuDh2"
   },
   "source": [
    "# ny-taxi-fare-prediction-by-sneha-bajaj\n",
    "\n",
    "Use the \"Run\" button to execute the code."
   ]
  },
  {
   "cell_type": "markdown",
   "metadata": {
    "id": "N8bKCoPqMGFH"
   },
   "source": [
    "Import Libraries"
   ]
  },
  {
   "cell_type": "code",
   "execution_count": null,
   "metadata": {
    "id": "4icWifLdB3CL"
   },
   "outputs": [],
   "source": [
    "import pandas as pd\n",
    "import numpy as np\n",
    "import matplotlib.pyplot as plt\n",
    "import seaborn as sns\n",
    "import plotly.express as px"
   ]
  },
  {
   "cell_type": "markdown",
   "metadata": {
    "id": "_oxks2wdMM3_"
   },
   "source": [
    "Download the Dataset"
   ]
  },
  {
   "cell_type": "code",
   "execution_count": null,
   "metadata": {
    "id": "h0qkHw7luDh7"
   },
   "outputs": [],
   "source": [
    "import os\n",
    "\n",
    "os.environ['KAGGLE_USERNAME'] = \"snehagilada\"\n",
    "os.environ['KAGGLE_KEY'] = \"10d84b24c61fca71746a2a25fca79978\""
   ]
  },
  {
   "cell_type": "code",
   "execution_count": null,
   "metadata": {
    "colab": {
     "base_uri": "https://localhost:8080/"
    },
    "executionInfo": {
     "elapsed": 19874,
     "status": "ok",
     "timestamp": 1685269304351,
     "user": {
      "displayName": "Sneha Gilada",
      "userId": "10041436639536721328"
     },
     "user_tz": -330
    },
    "id": "Wy8bTn6syrQ3",
    "outputId": "699b52ca-b265-4f86-f171-a76ad1af6a93"
   },
   "outputs": [
    {
     "name": "stdout",
     "output_type": "stream",
     "text": [
      "Downloading new-york-city-taxi-fare-prediction.zip to /content\n",
      "100% 1.55G/1.56G [00:18<00:00, 70.1MB/s]\n",
      "100% 1.56G/1.56G [00:18<00:00, 91.6MB/s]\n"
     ]
    }
   ],
   "source": [
    "!kaggle competitions download -c new-york-city-taxi-fare-prediction"
   ]
  },
  {
   "cell_type": "code",
   "execution_count": null,
   "metadata": {
    "colab": {
     "base_uri": "https://localhost:8080/"
    },
    "executionInfo": {
     "elapsed": 76926,
     "status": "ok",
     "timestamp": 1685270208285,
     "user": {
      "displayName": "Sneha Gilada",
      "userId": "10041436639536721328"
     },
     "user_tz": -330
    },
    "id": "Fzfbbtvt4IFq",
    "outputId": "574d064c-e857-48c6-c85c-295eed318d81"
   },
   "outputs": [
    {
     "name": "stdout",
     "output_type": "stream",
     "text": [
      "Archive:  new-york-city-taxi-fare-prediction.zip\n",
      "  inflating: GCP-Coupons-Instructions.rtf  \n",
      "  inflating: sample_submission.csv   \n",
      "  inflating: test.csv                \n",
      "  inflating: train.csv               \n"
     ]
    }
   ],
   "source": [
    "!unzip new-york-city-taxi-fare-prediction.zip"
   ]
  },
  {
   "cell_type": "code",
   "execution_count": null,
   "metadata": {
    "colab": {
     "base_uri": "https://localhost:8080/"
    },
    "executionInfo": {
     "elapsed": 690,
     "status": "ok",
     "timestamp": 1685270793132,
     "user": {
      "displayName": "Sneha Gilada",
      "userId": "10041436639536721328"
     },
     "user_tz": -330
    },
    "id": "Er7oL-ei7W2m",
    "outputId": "fb6db320-a7bf-4dba-d216-cffdaeae5b2a"
   },
   "outputs": [
    {
     "name": "stdout",
     "output_type": "stream",
     "text": [
      "total 6.9G\n",
      "-rw-r--r-- 1 root root  486 Dec 12  2019 GCP-Coupons-Instructions.rtf\n",
      "-rw-r--r-- 1 root root 1.6G May 28 10:21 new-york-city-taxi-fare-prediction.zip\n",
      "-rw-r--r-- 1 root root 336K Dec 12  2019 sample_submission.csv\n",
      "-rw-r--r-- 1 root root 960K Dec 12  2019 test.csv\n",
      "-rw-r--r-- 1 root root 5.4G Dec 12  2019 train.csv\n"
     ]
    }
   ],
   "source": [
    "!ls -lh"
   ]
  },
  {
   "cell_type": "code",
   "execution_count": null,
   "metadata": {
    "id": "aD2w9rLHGd9N"
   },
   "outputs": [],
   "source": [
    "import random\n",
    "frac = 0.01"
   ]
  },
  {
   "cell_type": "code",
   "execution_count": null,
   "metadata": {
    "colab": {
     "base_uri": "https://localhost:8080/"
    },
    "executionInfo": {
     "elapsed": 145959,
     "status": "ok",
     "timestamp": 1685273282350,
     "user": {
      "displayName": "Sneha Gilada",
      "userId": "10041436639536721328"
     },
     "user_tz": -330
    },
    "id": "AfUEKHT58i7V",
    "outputId": "489747c9-b38e-4be9-e2ed-e2ffd1d4103f"
   },
   "outputs": [
    {
     "name": "stdout",
     "output_type": "stream",
     "text": [
      "CPU times: user 2min 9s, sys: 4.7 s, total: 2min 14s\n",
      "Wall time: 2min 25s\n"
     ]
    }
   ],
   "source": [
    "%%time\n",
    "\n",
    "dtypes = {'fare_amount': 'float32', \n",
    "          'pickup_longitude': 'float32', \n",
    "          'pickup_latitude': 'float32', \n",
    "          'dropoff_longitude': 'float32'}\n",
    "\n",
    "train_df = pd.read_csv('train.csv', \n",
    "                       header=0, \n",
    "                       dtype = dtypes, \n",
    "                       parse_dates= ['pickup_datetime'], \n",
    "                       skiprows= lambda i: i>0 and random.random()>frac)"
   ]
  },
  {
   "cell_type": "markdown",
   "metadata": {
    "id": "U0ZK_4gTMCLh"
   },
   "source": [
    "About the Dataset"
   ]
  },
  {
   "cell_type": "code",
   "execution_count": null,
   "metadata": {
    "colab": {
     "base_uri": "https://localhost:8080/"
    },
    "executionInfo": {
     "elapsed": 472,
     "status": "ok",
     "timestamp": 1685273308914,
     "user": {
      "displayName": "Sneha Gilada",
      "userId": "10041436639536721328"
     },
     "user_tz": -330
    },
    "id": "Simp3AahFMmA",
    "outputId": "66228642-a817-48a6-cc17-fd57b0d2a21d"
   },
   "outputs": [
    {
     "data": {
      "text/plain": [
       "(554679, 8)"
      ]
     },
     "execution_count": 18,
     "metadata": {},
     "output_type": "execute_result"
    }
   ],
   "source": [
    "train_df.shape"
   ]
  },
  {
   "cell_type": "code",
   "execution_count": null,
   "metadata": {
    "colab": {
     "base_uri": "https://localhost:8080/"
    },
    "executionInfo": {
     "elapsed": 386,
     "status": "ok",
     "timestamp": 1685273325178,
     "user": {
      "displayName": "Sneha Gilada",
      "userId": "10041436639536721328"
     },
     "user_tz": -330
    },
    "id": "2pT8CbpBHdZ8",
    "outputId": "63ef7d47-9734-40eb-a6f0-4f042dd5f624"
   },
   "outputs": [
    {
     "name": "stdout",
     "output_type": "stream",
     "text": [
      "<class 'pandas.core.frame.DataFrame'>\n",
      "RangeIndex: 554679 entries, 0 to 554678\n",
      "Data columns (total 8 columns):\n",
      " #   Column             Non-Null Count   Dtype              \n",
      "---  ------             --------------   -----              \n",
      " 0   key                554679 non-null  object             \n",
      " 1   fare_amount        554679 non-null  float32            \n",
      " 2   pickup_datetime    554679 non-null  datetime64[ns, UTC]\n",
      " 3   pickup_longitude   554679 non-null  float32            \n",
      " 4   pickup_latitude    554679 non-null  float32            \n",
      " 5   dropoff_longitude  554676 non-null  float32            \n",
      " 6   dropoff_latitude   554676 non-null  float64            \n",
      " 7   passenger_count    554679 non-null  int64              \n",
      "dtypes: datetime64[ns, UTC](1), float32(4), float64(1), int64(1), object(1)\n",
      "memory usage: 25.4+ MB\n"
     ]
    }
   ],
   "source": [
    "train_df.info()"
   ]
  },
  {
   "cell_type": "code",
   "execution_count": 22,
   "metadata": {
    "colab": {
     "base_uri": "https://localhost:8080/",
     "height": 206
    },
    "executionInfo": {
     "elapsed": 9,
     "status": "ok",
     "timestamp": 1685273937001,
     "user": {
      "displayName": "Sneha Gilada",
      "userId": "10041436639536721328"
     },
     "user_tz": -330
    },
    "id": "6K4Yr8chH0l8",
    "outputId": "a4beb5b9-fe97-4a07-b088-709d51db1f3e"
   },
   "outputs": [
    {
     "data": {
      "text/html": [
       "\n",
       "  <div id=\"df-bd3983db-171a-4451-bd8b-2bfd2eefef06\">\n",
       "    <div class=\"colab-df-container\">\n",
       "      <div>\n",
       "<style scoped>\n",
       "    .dataframe tbody tr th:only-of-type {\n",
       "        vertical-align: middle;\n",
       "    }\n",
       "\n",
       "    .dataframe tbody tr th {\n",
       "        vertical-align: top;\n",
       "    }\n",
       "\n",
       "    .dataframe thead th {\n",
       "        text-align: right;\n",
       "    }\n",
       "</style>\n",
       "<table border=\"1\" class=\"dataframe\">\n",
       "  <thead>\n",
       "    <tr style=\"text-align: right;\">\n",
       "      <th></th>\n",
       "      <th>key</th>\n",
       "      <th>fare_amount</th>\n",
       "      <th>pickup_datetime</th>\n",
       "      <th>pickup_longitude</th>\n",
       "      <th>pickup_latitude</th>\n",
       "      <th>dropoff_longitude</th>\n",
       "      <th>dropoff_latitude</th>\n",
       "      <th>passenger_count</th>\n",
       "    </tr>\n",
       "  </thead>\n",
       "  <tbody>\n",
       "    <tr>\n",
       "      <th>0</th>\n",
       "      <td>2015-05-31 07:33:18.0000002</td>\n",
       "      <td>16.5</td>\n",
       "      <td>2015-05-31 07:33:18+00:00</td>\n",
       "      <td>-73.996986</td>\n",
       "      <td>40.755428</td>\n",
       "      <td>-73.953194</td>\n",
       "      <td>40.802101</td>\n",
       "      <td>3</td>\n",
       "    </tr>\n",
       "    <tr>\n",
       "      <th>1</th>\n",
       "      <td>2014-05-09 09:42:16.0000001</td>\n",
       "      <td>19.0</td>\n",
       "      <td>2014-05-09 09:42:16+00:00</td>\n",
       "      <td>-73.968674</td>\n",
       "      <td>40.799103</td>\n",
       "      <td>-73.935898</td>\n",
       "      <td>40.849863</td>\n",
       "      <td>2</td>\n",
       "    </tr>\n",
       "    <tr>\n",
       "      <th>2</th>\n",
       "      <td>2014-06-25 17:43:16.0000003</td>\n",
       "      <td>23.5</td>\n",
       "      <td>2014-06-25 17:43:16+00:00</td>\n",
       "      <td>-73.958588</td>\n",
       "      <td>40.775616</td>\n",
       "      <td>-74.000481</td>\n",
       "      <td>40.737611</td>\n",
       "      <td>1</td>\n",
       "    </tr>\n",
       "    <tr>\n",
       "      <th>3</th>\n",
       "      <td>2012-05-09 15:26:00.00000039</td>\n",
       "      <td>6.1</td>\n",
       "      <td>2012-05-09 15:26:00+00:00</td>\n",
       "      <td>-73.979851</td>\n",
       "      <td>40.786316</td>\n",
       "      <td>-73.985069</td>\n",
       "      <td>40.774133</td>\n",
       "      <td>1</td>\n",
       "    </tr>\n",
       "    <tr>\n",
       "      <th>4</th>\n",
       "      <td>2013-01-31 19:38:05.0000006</td>\n",
       "      <td>11.0</td>\n",
       "      <td>2013-01-31 19:38:05+00:00</td>\n",
       "      <td>-73.978836</td>\n",
       "      <td>40.764744</td>\n",
       "      <td>-73.984772</td>\n",
       "      <td>40.745978</td>\n",
       "      <td>1</td>\n",
       "    </tr>\n",
       "  </tbody>\n",
       "</table>\n",
       "</div>\n",
       "      <button class=\"colab-df-convert\" onclick=\"convertToInteractive('df-bd3983db-171a-4451-bd8b-2bfd2eefef06')\"\n",
       "              title=\"Convert this dataframe to an interactive table.\"\n",
       "              style=\"display:none;\">\n",
       "        \n",
       "  <svg xmlns=\"http://www.w3.org/2000/svg\" height=\"24px\"viewBox=\"0 0 24 24\"\n",
       "       width=\"24px\">\n",
       "    <path d=\"M0 0h24v24H0V0z\" fill=\"none\"/>\n",
       "    <path d=\"M18.56 5.44l.94 2.06.94-2.06 2.06-.94-2.06-.94-.94-2.06-.94 2.06-2.06.94zm-11 1L8.5 8.5l.94-2.06 2.06-.94-2.06-.94L8.5 2.5l-.94 2.06-2.06.94zm10 10l.94 2.06.94-2.06 2.06-.94-2.06-.94-.94-2.06-.94 2.06-2.06.94z\"/><path d=\"M17.41 7.96l-1.37-1.37c-.4-.4-.92-.59-1.43-.59-.52 0-1.04.2-1.43.59L10.3 9.45l-7.72 7.72c-.78.78-.78 2.05 0 2.83L4 21.41c.39.39.9.59 1.41.59.51 0 1.02-.2 1.41-.59l7.78-7.78 2.81-2.81c.8-.78.8-2.07 0-2.86zM5.41 20L4 18.59l7.72-7.72 1.47 1.35L5.41 20z\"/>\n",
       "  </svg>\n",
       "      </button>\n",
       "      \n",
       "  <style>\n",
       "    .colab-df-container {\n",
       "      display:flex;\n",
       "      flex-wrap:wrap;\n",
       "      gap: 12px;\n",
       "    }\n",
       "\n",
       "    .colab-df-convert {\n",
       "      background-color: #E8F0FE;\n",
       "      border: none;\n",
       "      border-radius: 50%;\n",
       "      cursor: pointer;\n",
       "      display: none;\n",
       "      fill: #1967D2;\n",
       "      height: 32px;\n",
       "      padding: 0 0 0 0;\n",
       "      width: 32px;\n",
       "    }\n",
       "\n",
       "    .colab-df-convert:hover {\n",
       "      background-color: #E2EBFA;\n",
       "      box-shadow: 0px 1px 2px rgba(60, 64, 67, 0.3), 0px 1px 3px 1px rgba(60, 64, 67, 0.15);\n",
       "      fill: #174EA6;\n",
       "    }\n",
       "\n",
       "    [theme=dark] .colab-df-convert {\n",
       "      background-color: #3B4455;\n",
       "      fill: #D2E3FC;\n",
       "    }\n",
       "\n",
       "    [theme=dark] .colab-df-convert:hover {\n",
       "      background-color: #434B5C;\n",
       "      box-shadow: 0px 1px 3px 1px rgba(0, 0, 0, 0.15);\n",
       "      filter: drop-shadow(0px 1px 2px rgba(0, 0, 0, 0.3));\n",
       "      fill: #FFFFFF;\n",
       "    }\n",
       "  </style>\n",
       "\n",
       "      <script>\n",
       "        const buttonEl =\n",
       "          document.querySelector('#df-bd3983db-171a-4451-bd8b-2bfd2eefef06 button.colab-df-convert');\n",
       "        buttonEl.style.display =\n",
       "          google.colab.kernel.accessAllowed ? 'block' : 'none';\n",
       "\n",
       "        async function convertToInteractive(key) {\n",
       "          const element = document.querySelector('#df-bd3983db-171a-4451-bd8b-2bfd2eefef06');\n",
       "          const dataTable =\n",
       "            await google.colab.kernel.invokeFunction('convertToInteractive',\n",
       "                                                     [key], {});\n",
       "          if (!dataTable) return;\n",
       "\n",
       "          const docLinkHtml = 'Like what you see? Visit the ' +\n",
       "            '<a target=\"_blank\" href=https://colab.research.google.com/notebooks/data_table.ipynb>data table notebook</a>'\n",
       "            + ' to learn more about interactive tables.';\n",
       "          element.innerHTML = '';\n",
       "          dataTable['output_type'] = 'display_data';\n",
       "          await google.colab.output.renderOutput(dataTable, element);\n",
       "          const docLink = document.createElement('div');\n",
       "          docLink.innerHTML = docLinkHtml;\n",
       "          element.appendChild(docLink);\n",
       "        }\n",
       "      </script>\n",
       "    </div>\n",
       "  </div>\n",
       "  "
      ],
      "text/plain": [
       "                            key  fare_amount           pickup_datetime  \\\n",
       "0   2015-05-31 07:33:18.0000002         16.5 2015-05-31 07:33:18+00:00   \n",
       "1   2014-05-09 09:42:16.0000001         19.0 2014-05-09 09:42:16+00:00   \n",
       "2   2014-06-25 17:43:16.0000003         23.5 2014-06-25 17:43:16+00:00   \n",
       "3  2012-05-09 15:26:00.00000039          6.1 2012-05-09 15:26:00+00:00   \n",
       "4   2013-01-31 19:38:05.0000006         11.0 2013-01-31 19:38:05+00:00   \n",
       "\n",
       "   pickup_longitude  pickup_latitude  dropoff_longitude  dropoff_latitude  \\\n",
       "0        -73.996986        40.755428         -73.953194         40.802101   \n",
       "1        -73.968674        40.799103         -73.935898         40.849863   \n",
       "2        -73.958588        40.775616         -74.000481         40.737611   \n",
       "3        -73.979851        40.786316         -73.985069         40.774133   \n",
       "4        -73.978836        40.764744         -73.984772         40.745978   \n",
       "\n",
       "   passenger_count  \n",
       "0                3  \n",
       "1                2  \n",
       "2                1  \n",
       "3                1  \n",
       "4                1  "
      ]
     },
     "execution_count": 22,
     "metadata": {},
     "output_type": "execute_result"
    }
   ],
   "source": [
    "train_df.head()"
   ]
  },
  {
   "cell_type": "markdown",
   "metadata": {
    "id": "U7b7e4XeL9Cx"
   },
   "source": [
    "Check for Null Values"
   ]
  },
  {
   "cell_type": "code",
   "execution_count": 32,
   "metadata": {
    "colab": {
     "base_uri": "https://localhost:8080/"
    },
    "executionInfo": {
     "elapsed": 482,
     "status": "ok",
     "timestamp": 1685274343077,
     "user": {
      "displayName": "Sneha Gilada",
      "userId": "10041436639536721328"
     },
     "user_tz": -330
    },
    "id": "0xYnPSNJKr6T",
    "outputId": "9669e821-91bf-4a37-9c3c-6970a5f549e8"
   },
   "outputs": [
    {
     "data": {
      "text/plain": [
       "key                  0.0\n",
       "fare_amount          0.0\n",
       "pickup_datetime      0.0\n",
       "pickup_longitude     0.0\n",
       "pickup_latitude      0.0\n",
       "dropoff_longitude    0.0\n",
       "dropoff_latitude     0.0\n",
       "passenger_count      0.0\n",
       "dtype: float64"
      ]
     },
     "execution_count": 32,
     "metadata": {},
     "output_type": "execute_result"
    }
   ],
   "source": [
    "round(train_df.isnull().sum()*100/train_df.shape[0],0)"
   ]
  },
  {
   "cell_type": "markdown",
   "metadata": {
    "id": "XoXa04g0LzgU"
   },
   "source": [
    "Remove Outliers"
   ]
  },
  {
   "cell_type": "code",
   "execution_count": null,
   "metadata": {
    "colab": {
     "base_uri": "https://localhost:8080/",
     "height": 300
    },
    "executionInfo": {
     "elapsed": 387,
     "status": "ok",
     "timestamp": 1685273398939,
     "user": {
      "displayName": "Sneha Gilada",
      "userId": "10041436639536721328"
     },
     "user_tz": -330
    },
    "id": "jnzGwPbUHiqZ",
    "outputId": "92799a62-e2e4-405e-c8e1-5278a22a36e3"
   },
   "outputs": [
    {
     "data": {
      "text/html": [
       "\n",
       "  <div id=\"df-b3a438db-1169-4873-bbd7-d62bd222638e\">\n",
       "    <div class=\"colab-df-container\">\n",
       "      <div>\n",
       "<style scoped>\n",
       "    .dataframe tbody tr th:only-of-type {\n",
       "        vertical-align: middle;\n",
       "    }\n",
       "\n",
       "    .dataframe tbody tr th {\n",
       "        vertical-align: top;\n",
       "    }\n",
       "\n",
       "    .dataframe thead th {\n",
       "        text-align: right;\n",
       "    }\n",
       "</style>\n",
       "<table border=\"1\" class=\"dataframe\">\n",
       "  <thead>\n",
       "    <tr style=\"text-align: right;\">\n",
       "      <th></th>\n",
       "      <th>fare_amount</th>\n",
       "      <th>pickup_longitude</th>\n",
       "      <th>pickup_latitude</th>\n",
       "      <th>dropoff_longitude</th>\n",
       "      <th>dropoff_latitude</th>\n",
       "      <th>passenger_count</th>\n",
       "    </tr>\n",
       "  </thead>\n",
       "  <tbody>\n",
       "    <tr>\n",
       "      <th>count</th>\n",
       "      <td>554679.000000</td>\n",
       "      <td>554679.000000</td>\n",
       "      <td>554679.000000</td>\n",
       "      <td>554676.000000</td>\n",
       "      <td>554676.000000</td>\n",
       "      <td>554679.000000</td>\n",
       "    </tr>\n",
       "    <tr>\n",
       "      <th>mean</th>\n",
       "      <td>11.341425</td>\n",
       "      <td>-72.489082</td>\n",
       "      <td>39.926495</td>\n",
       "      <td>-72.497162</td>\n",
       "      <td>39.916563</td>\n",
       "      <td>1.684673</td>\n",
       "    </tr>\n",
       "    <tr>\n",
       "      <th>std</th>\n",
       "      <td>9.785219</td>\n",
       "      <td>12.523436</td>\n",
       "      <td>9.413358</td>\n",
       "      <td>13.385701</td>\n",
       "      <td>8.982460</td>\n",
       "      <td>1.307380</td>\n",
       "    </tr>\n",
       "    <tr>\n",
       "      <th>min</th>\n",
       "      <td>-53.000000</td>\n",
       "      <td>-2029.891846</td>\n",
       "      <td>-2541.528809</td>\n",
       "      <td>-2029.891846</td>\n",
       "      <td>-2541.528795</td>\n",
       "      <td>0.000000</td>\n",
       "    </tr>\n",
       "    <tr>\n",
       "      <th>25%</th>\n",
       "      <td>6.000000</td>\n",
       "      <td>-73.992081</td>\n",
       "      <td>40.734913</td>\n",
       "      <td>-73.991432</td>\n",
       "      <td>40.733997</td>\n",
       "      <td>1.000000</td>\n",
       "    </tr>\n",
       "    <tr>\n",
       "      <th>50%</th>\n",
       "      <td>8.500000</td>\n",
       "      <td>-73.981857</td>\n",
       "      <td>40.752602</td>\n",
       "      <td>-73.980141</td>\n",
       "      <td>40.753170</td>\n",
       "      <td>1.000000</td>\n",
       "    </tr>\n",
       "    <tr>\n",
       "      <th>75%</th>\n",
       "      <td>12.500000</td>\n",
       "      <td>-73.967125</td>\n",
       "      <td>40.767071</td>\n",
       "      <td>-73.963669</td>\n",
       "      <td>40.768140</td>\n",
       "      <td>2.000000</td>\n",
       "    </tr>\n",
       "    <tr>\n",
       "      <th>max</th>\n",
       "      <td>450.000000</td>\n",
       "      <td>3045.190918</td>\n",
       "      <td>2616.101074</td>\n",
       "      <td>3429.640625</td>\n",
       "      <td>2616.101090</td>\n",
       "      <td>6.000000</td>\n",
       "    </tr>\n",
       "  </tbody>\n",
       "</table>\n",
       "</div>\n",
       "      <button class=\"colab-df-convert\" onclick=\"convertToInteractive('df-b3a438db-1169-4873-bbd7-d62bd222638e')\"\n",
       "              title=\"Convert this dataframe to an interactive table.\"\n",
       "              style=\"display:none;\">\n",
       "        \n",
       "  <svg xmlns=\"http://www.w3.org/2000/svg\" height=\"24px\"viewBox=\"0 0 24 24\"\n",
       "       width=\"24px\">\n",
       "    <path d=\"M0 0h24v24H0V0z\" fill=\"none\"/>\n",
       "    <path d=\"M18.56 5.44l.94 2.06.94-2.06 2.06-.94-2.06-.94-.94-2.06-.94 2.06-2.06.94zm-11 1L8.5 8.5l.94-2.06 2.06-.94-2.06-.94L8.5 2.5l-.94 2.06-2.06.94zm10 10l.94 2.06.94-2.06 2.06-.94-2.06-.94-.94-2.06-.94 2.06-2.06.94z\"/><path d=\"M17.41 7.96l-1.37-1.37c-.4-.4-.92-.59-1.43-.59-.52 0-1.04.2-1.43.59L10.3 9.45l-7.72 7.72c-.78.78-.78 2.05 0 2.83L4 21.41c.39.39.9.59 1.41.59.51 0 1.02-.2 1.41-.59l7.78-7.78 2.81-2.81c.8-.78.8-2.07 0-2.86zM5.41 20L4 18.59l7.72-7.72 1.47 1.35L5.41 20z\"/>\n",
       "  </svg>\n",
       "      </button>\n",
       "      \n",
       "  <style>\n",
       "    .colab-df-container {\n",
       "      display:flex;\n",
       "      flex-wrap:wrap;\n",
       "      gap: 12px;\n",
       "    }\n",
       "\n",
       "    .colab-df-convert {\n",
       "      background-color: #E8F0FE;\n",
       "      border: none;\n",
       "      border-radius: 50%;\n",
       "      cursor: pointer;\n",
       "      display: none;\n",
       "      fill: #1967D2;\n",
       "      height: 32px;\n",
       "      padding: 0 0 0 0;\n",
       "      width: 32px;\n",
       "    }\n",
       "\n",
       "    .colab-df-convert:hover {\n",
       "      background-color: #E2EBFA;\n",
       "      box-shadow: 0px 1px 2px rgba(60, 64, 67, 0.3), 0px 1px 3px 1px rgba(60, 64, 67, 0.15);\n",
       "      fill: #174EA6;\n",
       "    }\n",
       "\n",
       "    [theme=dark] .colab-df-convert {\n",
       "      background-color: #3B4455;\n",
       "      fill: #D2E3FC;\n",
       "    }\n",
       "\n",
       "    [theme=dark] .colab-df-convert:hover {\n",
       "      background-color: #434B5C;\n",
       "      box-shadow: 0px 1px 3px 1px rgba(0, 0, 0, 0.15);\n",
       "      filter: drop-shadow(0px 1px 2px rgba(0, 0, 0, 0.3));\n",
       "      fill: #FFFFFF;\n",
       "    }\n",
       "  </style>\n",
       "\n",
       "      <script>\n",
       "        const buttonEl =\n",
       "          document.querySelector('#df-b3a438db-1169-4873-bbd7-d62bd222638e button.colab-df-convert');\n",
       "        buttonEl.style.display =\n",
       "          google.colab.kernel.accessAllowed ? 'block' : 'none';\n",
       "\n",
       "        async function convertToInteractive(key) {\n",
       "          const element = document.querySelector('#df-b3a438db-1169-4873-bbd7-d62bd222638e');\n",
       "          const dataTable =\n",
       "            await google.colab.kernel.invokeFunction('convertToInteractive',\n",
       "                                                     [key], {});\n",
       "          if (!dataTable) return;\n",
       "\n",
       "          const docLinkHtml = 'Like what you see? Visit the ' +\n",
       "            '<a target=\"_blank\" href=https://colab.research.google.com/notebooks/data_table.ipynb>data table notebook</a>'\n",
       "            + ' to learn more about interactive tables.';\n",
       "          element.innerHTML = '';\n",
       "          dataTable['output_type'] = 'display_data';\n",
       "          await google.colab.output.renderOutput(dataTable, element);\n",
       "          const docLink = document.createElement('div');\n",
       "          docLink.innerHTML = docLinkHtml;\n",
       "          element.appendChild(docLink);\n",
       "        }\n",
       "      </script>\n",
       "    </div>\n",
       "  </div>\n",
       "  "
      ],
      "text/plain": [
       "         fare_amount  pickup_longitude  pickup_latitude  dropoff_longitude  \\\n",
       "count  554679.000000     554679.000000    554679.000000      554676.000000   \n",
       "mean       11.341425        -72.489082        39.926495         -72.497162   \n",
       "std         9.785219         12.523436         9.413358          13.385701   \n",
       "min       -53.000000      -2029.891846     -2541.528809       -2029.891846   \n",
       "25%         6.000000        -73.992081        40.734913         -73.991432   \n",
       "50%         8.500000        -73.981857        40.752602         -73.980141   \n",
       "75%        12.500000        -73.967125        40.767071         -73.963669   \n",
       "max       450.000000       3045.190918      2616.101074        3429.640625   \n",
       "\n",
       "       dropoff_latitude  passenger_count  \n",
       "count     554676.000000    554679.000000  \n",
       "mean          39.916563         1.684673  \n",
       "std            8.982460         1.307380  \n",
       "min        -2541.528795         0.000000  \n",
       "25%           40.733997         1.000000  \n",
       "50%           40.753170         1.000000  \n",
       "75%           40.768140         2.000000  \n",
       "max         2616.101090         6.000000  "
      ]
     },
     "execution_count": 20,
     "metadata": {},
     "output_type": "execute_result"
    }
   ],
   "source": [
    "train_df.describe()"
   ]
  },
  {
   "cell_type": "code",
   "execution_count": null,
   "metadata": {
    "id": "qpT7FcErMeBK"
   },
   "outputs": [],
   "source": []
  }
 ],
 "metadata": {
  "colab": {
   "provenance": []
  },
  "kernelspec": {
   "display_name": "Python 3",
   "language": "python",
   "name": "python3"
  },
  "language_info": {
   "codemirror_mode": {
    "name": "ipython",
    "version": 3
   },
   "file_extension": ".py",
   "mimetype": "text/x-python",
   "name": "python",
   "nbconvert_exporter": "python",
   "pygments_lexer": "ipython3",
   "version": "3.7.6"
  }
 },
 "nbformat": 4,
 "nbformat_minor": 0
}